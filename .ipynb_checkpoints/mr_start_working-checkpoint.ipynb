{
 "cells": [
  {
   "cell_type": "code",
   "execution_count": 4,
   "id": "b1c16ae2-1b16-4794-b728-656ce031648a",
   "metadata": {},
   "outputs": [
    {
     "name": "stdout",
     "output_type": "stream",
     "text": [
      "['/Users/papi/Desktop/test1.txt']\n",
      "['test1.txt']\n"
     ]
    }
   ],
   "source": [
    "import tkinter as tk\n",
    "import tkinter.ttk as ttk\n",
    "import tkinter.filedialog\n",
    "import subprocess\n",
    "import os\n",
    "\n",
    "#メイン画面の作成\n",
    "root = tk.Tk()\n",
    "root.title(\"業務ツール立ち上げ君\")\n",
    "root.geometry(\"600x600\")\n",
    "\n",
    "#使用する変数の定義\n",
    "file_path_lists = []\n",
    "file_name_lists = []\n",
    "\n",
    "#追加ボタンを押した際の処理\n",
    "def add_process():\n",
    "    file_path_lists.append(tk.filedialog.askopenfilename())\n",
    "    file_name_lists.append(os.path.basename(file_path_lists[-1]))\n",
    "    \n",
    "    for i in range(len(file_name_lists)):\n",
    "        chk_button = ttk.Checkbutton(text=file_name_lists[i]).grid(row=i+1, sticky=tk.W)\n",
    "    \n",
    "    #処理の確認用(削除予定)\n",
    "    print(file_path_lists)\n",
    "    print(file_name_lists)\n",
    "\n",
    "#実行ボタンを押した際の処理\n",
    "def exec_process():\n",
    "    for i in range(len(file_path_lists)):\n",
    "        subprocess.Popen([\"open\", r\"/System/Applications/TextEdit.app\", file_path_lists[i]])\n",
    "\n",
    "#メイン画面のGUIの作成・配置\n",
    "label = ttk.Label(root, text=\"テスト\").grid(row=0, column=0)\n",
    "add_button = ttk.Button(root, text=\"追加\", command=add_process).grid(row=0, column=1)\n",
    "exec_butoon = ttk.Button(root, text=\"実行\", command=exec_process).grid(row=0, column=2)\n",
    "\n",
    "#処理の実行\n",
    "root.mainloop()"
   ]
  },
  {
   "cell_type": "code",
   "execution_count": null,
   "id": "17e91684-7c30-4675-848b-78fd21cbcfdf",
   "metadata": {},
   "outputs": [],
   "source": []
  }
 ],
 "metadata": {
  "kernelspec": {
   "display_name": "Python 3 (ipykernel)",
   "language": "python",
   "name": "python3"
  },
  "language_info": {
   "codemirror_mode": {
    "name": "ipython",
    "version": 3
   },
   "file_extension": ".py",
   "mimetype": "text/x-python",
   "name": "python",
   "nbconvert_exporter": "python",
   "pygments_lexer": "ipython3",
   "version": "3.11.5"
  }
 },
 "nbformat": 4,
 "nbformat_minor": 5
}
